{
 "cells": [
  {
   "cell_type": "markdown",
   "id": "3fd7261e",
   "metadata": {},
   "source": [
    "## Basic String methods"
   ]
  },
  {
   "cell_type": "code",
   "execution_count": 1,
   "id": "a7d46d9b",
   "metadata": {},
   "outputs": [],
   "source": [
    "new_string = 'we are going to France'"
   ]
  },
  {
   "cell_type": "code",
   "execution_count": 2,
   "id": "2667503f",
   "metadata": {},
   "outputs": [
    {
     "data": {
      "text/plain": [
       "'manish are going to France'"
      ]
     },
     "execution_count": 2,
     "metadata": {},
     "output_type": "execute_result"
    }
   ],
   "source": [
    "#replace method  \n",
    "\n",
    "new_string.replace('we','manish') "
   ]
  },
  {
   "cell_type": "code",
   "execution_count": 3,
   "id": "ac06b320",
   "metadata": {},
   "outputs": [
    {
     "data": {
      "text/plain": [
       "3"
      ]
     },
     "execution_count": 3,
     "metadata": {},
     "output_type": "execute_result"
    }
   ],
   "source": [
    "#count method\n",
    "\n",
    "new_string.count('e')   "
   ]
  },
  {
   "cell_type": "code",
   "execution_count": 4,
   "id": "9047fbc2",
   "metadata": {},
   "outputs": [],
   "source": [
    "fruits = 'mangoes are sweet, oranges are sour, beetroot is bitter'"
   ]
  },
  {
   "cell_type": "code",
   "execution_count": 5,
   "id": "afe275ba",
   "metadata": {},
   "outputs": [
    {
     "data": {
      "text/plain": [
       "['mangoes are sweet', ' oranges are sour', ' beetroot is bitter']"
      ]
     },
     "execution_count": 5,
     "metadata": {},
     "output_type": "execute_result"
    }
   ],
   "source": [
    "#separate method\n",
    "\n",
    "fruits.split(',')       "
   ]
  },
  {
   "cell_type": "markdown",
   "id": "9998266f",
   "metadata": {},
   "source": [
    "## Tuples"
   ]
  },
  {
   "cell_type": "code",
   "execution_count": 6,
   "id": "64e84f8e",
   "metadata": {},
   "outputs": [],
   "source": [
    "#creating new tuple using ()\n",
    "\n",
    "new_tup = ('hello',True,'Nishnt',34)     "
   ]
  },
  {
   "cell_type": "code",
   "execution_count": 7,
   "id": "b779caf8",
   "metadata": {},
   "outputs": [
    {
     "data": {
      "text/plain": [
       "('hello', True, 'Nishnt', 34)"
      ]
     },
     "execution_count": 7,
     "metadata": {},
     "output_type": "execute_result"
    }
   ],
   "source": [
    "new_tup"
   ]
  },
  {
   "cell_type": "code",
   "execution_count": 8,
   "id": "8e21d443",
   "metadata": {},
   "outputs": [
    {
     "data": {
      "text/plain": [
       "('hello', True, 'Nishnt')"
      ]
     },
     "execution_count": 8,
     "metadata": {},
     "output_type": "execute_result"
    }
   ],
   "source": [
    "new_tup[0:3]"
   ]
  },
  {
   "cell_type": "code",
   "execution_count": 9,
   "id": "a71f25de",
   "metadata": {},
   "outputs": [
    {
     "ename": "TypeError",
     "evalue": "'tuple' object does not support item assignment",
     "output_type": "error",
     "traceback": [
      "\u001b[1;31m---------------------------------------------------------------------------\u001b[0m",
      "\u001b[1;31mTypeError\u001b[0m                                 Traceback (most recent call last)",
      "\u001b[1;32mC:\\Users\\MANISH~1\\AppData\\Local\\Temp/ipykernel_13948/3348183704.py\u001b[0m in \u001b[0;36m<module>\u001b[1;34m\u001b[0m\n\u001b[0;32m      1\u001b[0m \u001b[1;31m#tuples are immutable\u001b[0m\u001b[1;33m\u001b[0m\u001b[1;33m\u001b[0m\u001b[0m\n\u001b[0;32m      2\u001b[0m \u001b[1;33m\u001b[0m\u001b[0m\n\u001b[1;32m----> 3\u001b[1;33m \u001b[0mnew_tup\u001b[0m\u001b[1;33m[\u001b[0m\u001b[1;36m3\u001b[0m\u001b[1;33m]\u001b[0m\u001b[1;33m=\u001b[0m\u001b[1;34m'new'\u001b[0m\u001b[1;33m\u001b[0m\u001b[1;33m\u001b[0m\u001b[0m\n\u001b[0m",
      "\u001b[1;31mTypeError\u001b[0m: 'tuple' object does not support item assignment"
     ]
    }
   ],
   "source": [
    "#tuples are immutable\n",
    "\n",
    "new_tup[3]='new'"
   ]
  },
  {
   "cell_type": "code",
   "execution_count": null,
   "id": "f7577734",
   "metadata": {},
   "outputs": [],
   "source": [
    "#another tuple\n",
    "\n",
    "tup1 =('lets','do','it')"
   ]
  },
  {
   "cell_type": "code",
   "execution_count": null,
   "id": "899455c1",
   "metadata": {},
   "outputs": [],
   "source": [
    "#operations on tuple\n",
    "\n",
    "#concatinating two tuples\n",
    "\n",
    "con_tup = new_tup + tup1\n",
    "con_tup"
   ]
  },
  {
   "cell_type": "code",
   "execution_count": null,
   "id": "ca2561a8",
   "metadata": {},
   "outputs": [],
   "source": [
    "#gives  length of tuple / elements of tuple\n",
    "\n",
    "len(con_tup)"
   ]
  },
  {
   "cell_type": "code",
   "execution_count": null,
   "id": "44e9328a",
   "metadata": {},
   "outputs": [],
   "source": [
    "# trying to calculating average/mean of the tuple \n",
    "\n",
    "val_tup = len(con_tup + new_tup)\n",
    "val_tup/4"
   ]
  },
  {
   "cell_type": "code",
   "execution_count": null,
   "id": "6f0b3425",
   "metadata": {},
   "outputs": [],
   "source": [
    "#tuple should have integer data types\n",
    "\n",
    "min(val_tup)\n"
   ]
  },
  {
   "cell_type": "code",
   "execution_count": null,
   "id": "9258bcc1",
   "metadata": {},
   "outputs": [],
   "source": [
    "tup2 = (1,4,22,4,76,35,21,66)\n"
   ]
  },
  {
   "cell_type": "code",
   "execution_count": null,
   "id": "97802344",
   "metadata": {},
   "outputs": [],
   "source": [
    "min(tup2),max(tup2)"
   ]
  },
  {
   "cell_type": "code",
   "execution_count": null,
   "id": "082b070f",
   "metadata": {},
   "outputs": [],
   "source": [
    "sum(tup2)/len(tup2)"
   ]
  },
  {
   "cell_type": "markdown",
   "id": "bceb112e",
   "metadata": {},
   "source": [
    "## Lists"
   ]
  },
  {
   "cell_type": "code",
   "execution_count": null,
   "id": "2adfa9ec",
   "metadata": {},
   "outputs": [],
   "source": [
    "#creating two new lists using []\n",
    "\n",
    "list1 = [23,45,11,True,'smart']\n",
    "list2 = [87,32,66,98,False,'nitrogen']"
   ]
  },
  {
   "cell_type": "code",
   "execution_count": null,
   "id": "75060e9c",
   "metadata": {},
   "outputs": [],
   "source": [
    "list1,list2"
   ]
  },
  {
   "cell_type": "code",
   "execution_count": null,
   "id": "ab8e7114",
   "metadata": {},
   "outputs": [],
   "source": [
    "#adding an element to the list using append()\n",
    "\n",
    "list1.append('why')\n",
    "list1"
   ]
  },
  {
   "cell_type": "code",
   "execution_count": null,
   "id": "5716d2bb",
   "metadata": {},
   "outputs": [],
   "source": [
    "list1"
   ]
  },
  {
   "cell_type": "code",
   "execution_count": null,
   "id": "ea70107f",
   "metadata": {},
   "outputs": [],
   "source": [
    "list2"
   ]
  },
  {
   "cell_type": "code",
   "execution_count": null,
   "id": "b684c990",
   "metadata": {},
   "outputs": [],
   "source": [
    "list2.append(tup1)"
   ]
  },
  {
   "cell_type": "code",
   "execution_count": null,
   "id": "a7b0ff29",
   "metadata": {},
   "outputs": [],
   "source": [
    "list2"
   ]
  },
  {
   "cell_type": "code",
   "execution_count": null,
   "id": "d3746c21",
   "metadata": {},
   "outputs": [],
   "source": [
    "#remove an item from list using pop()\n",
    "\n",
    "list1.pop()"
   ]
  },
  {
   "cell_type": "code",
   "execution_count": null,
   "id": "e3d74f34",
   "metadata": {},
   "outputs": [],
   "source": [
    "list1"
   ]
  },
  {
   "cell_type": "code",
   "execution_count": null,
   "id": "1d03156e",
   "metadata": {},
   "outputs": [],
   "source": [
    "#removing an element by specifying index value\n",
    "\n",
    "list1.pop(6)\n"
   ]
  },
  {
   "cell_type": "code",
   "execution_count": null,
   "id": "8944c64c",
   "metadata": {},
   "outputs": [],
   "source": [
    "list1"
   ]
  },
  {
   "cell_type": "code",
   "execution_count": null,
   "id": "a4ec1cb8",
   "metadata": {},
   "outputs": [],
   "source": [
    "#lists are mutable\n",
    "\n",
    "list1[2]= 'ok'\n",
    "list1"
   ]
  },
  {
   "cell_type": "code",
   "execution_count": null,
   "id": "73664381",
   "metadata": {},
   "outputs": [],
   "source": [
    "ok_list = [23,43,76,11,55,87,99]\n"
   ]
  },
  {
   "cell_type": "code",
   "execution_count": null,
   "id": "7052ded0",
   "metadata": {},
   "outputs": [],
   "source": [
    "#sorting a list\n",
    "\n",
    "ok_list.sort()\n",
    "ok_list"
   ]
  },
  {
   "cell_type": "code",
   "execution_count": null,
   "id": "f12ba96c",
   "metadata": {},
   "outputs": [],
   "source": [
    "#inserting new element on particular index\n",
    "\n",
    "ok_list.insert(8,100)\n",
    "ok_list"
   ]
  },
  {
   "cell_type": "code",
   "execution_count": null,
   "id": "91a71223",
   "metadata": {},
   "outputs": [],
   "source": [
    "ok_list"
   ]
  },
  {
   "cell_type": "code",
   "execution_count": null,
   "id": "43743930",
   "metadata": {},
   "outputs": [],
   "source": [
    "#reversing elements in list\n",
    "\n",
    "ok_list.reverse()"
   ]
  },
  {
   "cell_type": "code",
   "execution_count": null,
   "id": "ad9dfae2",
   "metadata": {},
   "outputs": [],
   "source": [
    "ok_list"
   ]
  },
  {
   "cell_type": "markdown",
   "id": "34e9f7f7",
   "metadata": {},
   "source": [
    "## Dictionary"
   ]
  },
  {
   "cell_type": "code",
   "execution_count": null,
   "id": "6db1f940",
   "metadata": {},
   "outputs": [],
   "source": [
    "#creating new dictionary\n",
    "\n",
    "new_dict = {'apple':100,\n",
    "           'guava':200,\n",
    "           'banana':50,\n",
    "           'orange':150,\n",
    "           'peach': 350}"
   ]
  },
  {
   "cell_type": "code",
   "execution_count": null,
   "id": "a193bdac",
   "metadata": {},
   "outputs": [],
   "source": [
    "type(new_dict)"
   ]
  },
  {
   "cell_type": "code",
   "execution_count": null,
   "id": "ac8b8f9e",
   "metadata": {},
   "outputs": [],
   "source": [
    "#keys in dictionary\n",
    "\n",
    "new_dict.keys()"
   ]
  },
  {
   "cell_type": "code",
   "execution_count": null,
   "id": "229e71ed",
   "metadata": {},
   "outputs": [],
   "source": [
    "#values in dictionary\n",
    "\n",
    "new_dict.values()"
   ]
  },
  {
   "cell_type": "code",
   "execution_count": null,
   "id": "b6d2d565",
   "metadata": {},
   "outputs": [],
   "source": [
    "#dictionaries are mutable\n",
    "\n",
    "new_dict['garpes'] = 120\n",
    "new_dict"
   ]
  },
  {
   "cell_type": "code",
   "execution_count": null,
   "id": "1414df24",
   "metadata": {},
   "outputs": [],
   "source": [
    "new_dict[2] = 'mango'\n",
    "new_dict"
   ]
  },
  {
   "cell_type": "code",
   "execution_count": null,
   "id": "ae486e38",
   "metadata": {},
   "outputs": [],
   "source": [
    "#poping an element out of dictionary\n",
    "#it returns the value that pops out corresponding to the element of the list\n",
    "\n",
    "new_dict.pop(2)"
   ]
  },
  {
   "cell_type": "code",
   "execution_count": null,
   "id": "539dc191",
   "metadata": {},
   "outputs": [],
   "source": [
    "new_dict"
   ]
  },
  {
   "cell_type": "code",
   "execution_count": null,
   "id": "e6579e5f",
   "metadata": {},
   "outputs": [],
   "source": [
    "#poping an item based index in dictionary\n",
    "\n",
    "new_dict.pop('2')"
   ]
  },
  {
   "cell_type": "code",
   "execution_count": null,
   "id": "7b9d12a8",
   "metadata": {},
   "outputs": [],
   "source": [
    "new_dict"
   ]
  },
  {
   "cell_type": "code",
   "execution_count": null,
   "id": "349b3ab7",
   "metadata": {},
   "outputs": [],
   "source": [
    "another_dict = {'watermelon':120,\n",
    "               'muskmelon': 300,\n",
    "               'kiwi': 500}"
   ]
  },
  {
   "cell_type": "code",
   "execution_count": null,
   "id": "5ab37800",
   "metadata": {},
   "outputs": [],
   "source": [
    "another_dict\n"
   ]
  },
  {
   "cell_type": "code",
   "execution_count": null,
   "id": "b424b8de",
   "metadata": {},
   "outputs": [],
   "source": [
    "#adds another dictionary to existing dictionary using update()\n",
    "\n",
    "new_dict.update(another_dict)"
   ]
  },
  {
   "cell_type": "code",
   "execution_count": null,
   "id": "a184faa5",
   "metadata": {},
   "outputs": [],
   "source": [
    "new_dict"
   ]
  },
  {
   "cell_type": "markdown",
   "id": "8349c193",
   "metadata": {},
   "source": [
    "## Sets"
   ]
  },
  {
   "cell_type": "code",
   "execution_count": null,
   "id": "1de35c15",
   "metadata": {},
   "outputs": [],
   "source": [
    "#creating new set\n",
    "\n",
    "set1 = {'hi','this',0.14,True,'98', 'is','new','set','this','lovely','98'}"
   ]
  },
  {
   "cell_type": "code",
   "execution_count": null,
   "id": "60200228",
   "metadata": {},
   "outputs": [],
   "source": [
    "#duplicates are removed in sets\n",
    "\n",
    "set1"
   ]
  },
  {
   "cell_type": "code",
   "execution_count": null,
   "id": "577f7963",
   "metadata": {},
   "outputs": [],
   "source": [
    "#adding single element\n",
    "\n",
    "set1.add(67)"
   ]
  },
  {
   "cell_type": "code",
   "execution_count": null,
   "id": "ecc1f05a",
   "metadata": {},
   "outputs": [],
   "source": [
    "set1"
   ]
  },
  {
   "cell_type": "code",
   "execution_count": null,
   "id": "d253df71",
   "metadata": {},
   "outputs": [],
   "source": [
    "#adding new elements in set\n",
    "\n",
    "set1.update([87,'rock'])"
   ]
  },
  {
   "cell_type": "code",
   "execution_count": null,
   "id": "d9f4b994",
   "metadata": {},
   "outputs": [],
   "source": [
    "set1"
   ]
  },
  {
   "cell_type": "code",
   "execution_count": null,
   "id": "1c97eeb6",
   "metadata": {},
   "outputs": [],
   "source": [
    "s1 = {3,5,2,8,10}\n",
    "s2 = {1,4,7,5,9,10,0}\n",
    "s3 = {2,4,7,10,11}"
   ]
  },
  {
   "cell_type": "code",
   "execution_count": null,
   "id": "77820f73",
   "metadata": {},
   "outputs": [],
   "source": [
    "#union() returns all the values in the sets \n",
    "\n",
    "s1.union(s2)"
   ]
  },
  {
   "cell_type": "code",
   "execution_count": null,
   "id": "7ff21bad",
   "metadata": {},
   "outputs": [],
   "source": [
    "#intersection() returns common values in the sets\n",
    "\n",
    "s3.intersection(s1)"
   ]
  },
  {
   "cell_type": "markdown",
   "id": "7d74b854",
   "metadata": {},
   "source": [
    "## Condition Statements"
   ]
  },
  {
   "cell_type": "markdown",
   "id": "77f3808e",
   "metadata": {},
   "source": [
    "### While Statement"
   ]
  },
  {
   "cell_type": "code",
   "execution_count": null,
   "id": "d1308dc0",
   "metadata": {},
   "outputs": [],
   "source": [
    "i = 1\n",
    "while i <= 10:\n",
    "    print(i)\n",
    "    i = i +1"
   ]
  },
  {
   "cell_type": "code",
   "execution_count": null,
   "id": "03f47e6c",
   "metadata": {},
   "outputs": [],
   "source": [
    "i = 1\n",
    "n = 2\n",
    "while i<= 10:\n",
    "    print(n ,'*', i ,'=' ,i * n)\n",
    "    i +=1"
   ]
  },
  {
   "cell_type": "code",
   "execution_count": null,
   "id": "f6d31a61",
   "metadata": {},
   "outputs": [],
   "source": [
    "i = 0\n",
    "l1 = [10,20,30,40,50]\n",
    "while i < len(l1):\n",
    "    l1[i] = l1[i]+5\n",
    "    i+=1   "
   ]
  },
  {
   "cell_type": "code",
   "execution_count": null,
   "id": "a84386b0",
   "metadata": {},
   "outputs": [],
   "source": [
    "l1"
   ]
  },
  {
   "cell_type": "markdown",
   "id": "11d76144",
   "metadata": {},
   "source": [
    "## for loop"
   ]
  },
  {
   "cell_type": "code",
   "execution_count": null,
   "id": "519d1ad6",
   "metadata": {},
   "outputs": [],
   "source": [
    "#nested for loop\n",
    "\n",
    "l1 = ['blue','red','green']\n",
    "l2 = ['mouse','keyboard','book','light']\n"
   ]
  },
  {
   "cell_type": "code",
   "execution_count": null,
   "id": "dc07061b",
   "metadata": {},
   "outputs": [],
   "source": [
    "for i in l1:\n",
    "    for j in l2:\n",
    "        print(i,j)"
   ]
  },
  {
   "cell_type": "code",
   "execution_count": null,
   "id": "4d86c8dc",
   "metadata": {},
   "outputs": [],
   "source": [
    "for i in l2:\n",
    "    print(i)"
   ]
  },
  {
   "cell_type": "markdown",
   "id": "209e9c70",
   "metadata": {},
   "source": [
    "## Object Oriented Programming"
   ]
  },
  {
   "cell_type": "code",
   "execution_count": 1,
   "id": "30d6cf7d",
   "metadata": {},
   "outputs": [],
   "source": [
    "# creating a class\n",
    "\n",
    "class Meeting:\n",
    "    def members(self):\n",
    "        print('Meeting has members')\n",
    "    def time(self):\n",
    "        print('Meeting has time')\n",
    "    def venue(self):\n",
    "        print('Meeting has a venue')\n"
   ]
  },
  {
   "cell_type": "code",
   "execution_count": 2,
   "id": "464e4c03",
   "metadata": {},
   "outputs": [],
   "source": [
    "m1= Meeting()"
   ]
  },
  {
   "cell_type": "code",
   "execution_count": 3,
   "id": "b32f030c",
   "metadata": {},
   "outputs": [
    {
     "name": "stdout",
     "output_type": "stream",
     "text": [
      "Meeting has members\n"
     ]
    }
   ],
   "source": [
    "m1.members()"
   ]
  },
  {
   "cell_type": "code",
   "execution_count": 4,
   "id": "c401aaa3",
   "metadata": {},
   "outputs": [
    {
     "name": "stdout",
     "output_type": "stream",
     "text": [
      "Meeting has a venue\n"
     ]
    }
   ],
   "source": [
    "m1.venue()"
   ]
  },
  {
   "cell_type": "code",
   "execution_count": 5,
   "id": "da783e7f",
   "metadata": {},
   "outputs": [
    {
     "name": "stdout",
     "output_type": "stream",
     "text": [
      "Meeting has time\n"
     ]
    }
   ],
   "source": [
    "m1.time()"
   ]
  },
  {
   "cell_type": "code",
   "execution_count": 6,
   "id": "5ba788f2",
   "metadata": {},
   "outputs": [],
   "source": [
    "class Phone:\n",
    "    def set_color(self,color):\n",
    "        self.color = color\n",
    "    def set_cost(self,cost):\n",
    "        self.cost = cost\n",
    "    def make_call(self):\n",
    "        print('make a call')\n",
    "    def play_game(self):\n",
    "        print('play games')\n",
    "    def show_color(self):\n",
    "        return self.color"
   ]
  },
  {
   "cell_type": "code",
   "execution_count": 7,
   "id": "4252bfa4",
   "metadata": {},
   "outputs": [],
   "source": [
    "p1 = Phone()"
   ]
  },
  {
   "cell_type": "code",
   "execution_count": 8,
   "id": "76092f0d",
   "metadata": {},
   "outputs": [],
   "source": [
    "p1.set_color('blue')"
   ]
  },
  {
   "cell_type": "code",
   "execution_count": 9,
   "id": "1597cdfd",
   "metadata": {},
   "outputs": [
    {
     "data": {
      "text/plain": [
       "'blue'"
      ]
     },
     "execution_count": 9,
     "metadata": {},
     "output_type": "execute_result"
    }
   ],
   "source": [
    "p1.show_color()"
   ]
  },
  {
   "cell_type": "code",
   "execution_count": 31,
   "id": "7bdcb4e9",
   "metadata": {},
   "outputs": [],
   "source": [
    "class Laptop:\n",
    "    def set_color(self,color):\n",
    "        self.color = color\n",
    "    def set_price(self,price):\n",
    "        self.price = price\n",
    "    def show_color(self):\n",
    "        return self.color\n",
    "    def show_price(self):\n",
    "        return self.price\n",
    "    def work(self):\n",
    "        print('laptop is used for work')\n",
    "    def games(self):\n",
    "        print('laptop is used for games as well')\n",
    "    "
   ]
  },
  {
   "cell_type": "code",
   "execution_count": 17,
   "id": "1c862c06",
   "metadata": {},
   "outputs": [],
   "source": [
    "l1 = Laptop()"
   ]
  },
  {
   "cell_type": "code",
   "execution_count": 21,
   "id": "ea9fc998",
   "metadata": {},
   "outputs": [],
   "source": [
    "l1.set_color('pink')"
   ]
  },
  {
   "cell_type": "code",
   "execution_count": 22,
   "id": "be3b49bc",
   "metadata": {},
   "outputs": [
    {
     "data": {
      "text/plain": [
       "'pink'"
      ]
     },
     "execution_count": 22,
     "metadata": {},
     "output_type": "execute_result"
    }
   ],
   "source": [
    "l1.show_color()"
   ]
  },
  {
   "cell_type": "code",
   "execution_count": 48,
   "id": "1e8e2919",
   "metadata": {},
   "outputs": [
    {
     "ename": "TypeError",
     "evalue": "'str' object is not callable",
     "output_type": "error",
     "traceback": [
      "\u001b[1;31m---------------------------------------------------------------------------\u001b[0m",
      "\u001b[1;31mTypeError\u001b[0m                                 Traceback (most recent call last)",
      "\u001b[1;32mC:\\Users\\MANISH~1\\AppData\\Local\\Temp/ipykernel_4212/748262294.py\u001b[0m in \u001b[0;36m<module>\u001b[1;34m\u001b[0m\n\u001b[1;32m----> 1\u001b[1;33m \u001b[0ml1\u001b[0m\u001b[1;33m.\u001b[0m\u001b[0mset_price\u001b[0m\u001b[1;33m(\u001b[0m\u001b[1;34m'1000'\u001b[0m\u001b[1;33m)\u001b[0m\u001b[1;33m\u001b[0m\u001b[1;33m\u001b[0m\u001b[0m\n\u001b[0m",
      "\u001b[1;31mTypeError\u001b[0m: 'str' object is not callable"
     ]
    }
   ],
   "source": [
    "l1.set_price('1000')"
   ]
  },
  {
   "cell_type": "code",
   "execution_count": 49,
   "id": "86325d10",
   "metadata": {},
   "outputs": [
    {
     "ename": "AttributeError",
     "evalue": "'Laptop' object has no attribute 'price'",
     "output_type": "error",
     "traceback": [
      "\u001b[1;31m---------------------------------------------------------------------------\u001b[0m",
      "\u001b[1;31mAttributeError\u001b[0m                            Traceback (most recent call last)",
      "\u001b[1;32mC:\\Users\\MANISH~1\\AppData\\Local\\Temp/ipykernel_4212/2078677718.py\u001b[0m in \u001b[0;36m<module>\u001b[1;34m\u001b[0m\n\u001b[1;32m----> 1\u001b[1;33m \u001b[0ml1\u001b[0m\u001b[1;33m.\u001b[0m\u001b[0mshow_price\u001b[0m\u001b[1;33m(\u001b[0m\u001b[1;33m)\u001b[0m\u001b[1;33m\u001b[0m\u001b[1;33m\u001b[0m\u001b[0m\n\u001b[0m",
      "\u001b[1;32mC:\\Users\\MANISH~1\\AppData\\Local\\Temp/ipykernel_4212/330516873.py\u001b[0m in \u001b[0;36mshow_price\u001b[1;34m(self)\u001b[0m\n\u001b[0;32m      7\u001b[0m         \u001b[1;32mreturn\u001b[0m \u001b[0mself\u001b[0m\u001b[1;33m.\u001b[0m\u001b[0mcolor\u001b[0m\u001b[1;33m\u001b[0m\u001b[1;33m\u001b[0m\u001b[0m\n\u001b[0;32m      8\u001b[0m     \u001b[1;32mdef\u001b[0m \u001b[0mshow_price\u001b[0m\u001b[1;33m(\u001b[0m\u001b[0mself\u001b[0m\u001b[1;33m)\u001b[0m\u001b[1;33m:\u001b[0m\u001b[1;33m\u001b[0m\u001b[1;33m\u001b[0m\u001b[0m\n\u001b[1;32m----> 9\u001b[1;33m         \u001b[1;32mreturn\u001b[0m \u001b[0mself\u001b[0m\u001b[1;33m.\u001b[0m\u001b[0mprice\u001b[0m\u001b[1;33m\u001b[0m\u001b[1;33m\u001b[0m\u001b[0m\n\u001b[0m\u001b[0;32m     10\u001b[0m     \u001b[1;32mdef\u001b[0m \u001b[0mwork\u001b[0m\u001b[1;33m(\u001b[0m\u001b[0mself\u001b[0m\u001b[1;33m)\u001b[0m\u001b[1;33m:\u001b[0m\u001b[1;33m\u001b[0m\u001b[1;33m\u001b[0m\u001b[0m\n\u001b[0;32m     11\u001b[0m         \u001b[0mprint\u001b[0m\u001b[1;33m(\u001b[0m\u001b[1;34m'laptop is used for work'\u001b[0m\u001b[1;33m)\u001b[0m\u001b[1;33m\u001b[0m\u001b[1;33m\u001b[0m\u001b[0m\n",
      "\u001b[1;31mAttributeError\u001b[0m: 'Laptop' object has no attribute 'price'"
     ]
    }
   ],
   "source": [
    "l1.show_price()"
   ]
  },
  {
   "cell_type": "code",
   "execution_count": 50,
   "id": "baeb4feb",
   "metadata": {},
   "outputs": [
    {
     "data": {
      "text/plain": [
       "<bound method Laptop.show_price of <__main__.Laptop object at 0x000001DFCAEBBFD0>>"
      ]
     },
     "execution_count": 50,
     "metadata": {},
     "output_type": "execute_result"
    }
   ],
   "source": [
    "l1.show_price"
   ]
  },
  {
   "cell_type": "code",
   "execution_count": 51,
   "id": "56498136",
   "metadata": {},
   "outputs": [
    {
     "name": "stdout",
     "output_type": "stream",
     "text": [
      "laptop is used for work\n"
     ]
    }
   ],
   "source": [
    "l1.work()"
   ]
  },
  {
   "cell_type": "code",
   "execution_count": 52,
   "id": "b86b134c",
   "metadata": {},
   "outputs": [
    {
     "name": "stdout",
     "output_type": "stream",
     "text": [
      "laptop is used for games as well\n"
     ]
    }
   ],
   "source": [
    "l1.games()"
   ]
  },
  {
   "cell_type": "code",
   "execution_count": 33,
   "id": "cb0386e8",
   "metadata": {},
   "outputs": [],
   "source": [
    "class Employee:\n",
    "    def __init__(self,name,age,gender,salary):\n",
    "        self.name = name\n",
    "        self.age = age\n",
    "        self.gender = gender\n",
    "        self.salary = salary\n",
    "    def show_details(self):\n",
    "        print('employee name is:', self.name)\n",
    "        print('employee age is:' ,self.age)\n",
    "        print('employee gender is:', self.gender)\n",
    "        print('employee salary is:', self.salary)"
   ]
  },
  {
   "cell_type": "code",
   "execution_count": 34,
   "id": "28490825",
   "metadata": {},
   "outputs": [],
   "source": [
    "e1 = Employee('Manish',32,150000,'M')"
   ]
  },
  {
   "cell_type": "code",
   "execution_count": 35,
   "id": "4e164702",
   "metadata": {},
   "outputs": [
    {
     "name": "stdout",
     "output_type": "stream",
     "text": [
      "employee name is: Manish\n",
      "employee age is: 32\n",
      "employee gender is: 150000\n",
      "employee salary is: M\n"
     ]
    }
   ],
   "source": [
    "e1.show_details()"
   ]
  },
  {
   "cell_type": "code",
   "execution_count": 36,
   "id": "67afd45a",
   "metadata": {},
   "outputs": [],
   "source": [
    "class More_Employee(Employee):\n",
    "    def details(self):\n",
    "        print('qualification is BTech')\n",
    "        print('past experience is 6 years')"
   ]
  },
  {
   "cell_type": "code",
   "execution_count": 37,
   "id": "4ae44d3a",
   "metadata": {},
   "outputs": [],
   "source": [
    "e2 = More_Employee('Gua',44,150000,'Female')"
   ]
  },
  {
   "cell_type": "code",
   "execution_count": 38,
   "id": "46fc02fa",
   "metadata": {},
   "outputs": [
    {
     "name": "stdout",
     "output_type": "stream",
     "text": [
      "qualification is BTech\n",
      "past experience is 6 years\n"
     ]
    }
   ],
   "source": [
    "e2.details()"
   ]
  },
  {
   "cell_type": "code",
   "execution_count": 39,
   "id": "6a226685",
   "metadata": {},
   "outputs": [
    {
     "name": "stdout",
     "output_type": "stream",
     "text": [
      "employee name is: Gua\n",
      "employee age is: 44\n",
      "employee gender is: 150000\n",
      "employee salary is: Female\n"
     ]
    }
   ],
   "source": [
    "e2.show_details()"
   ]
  },
  {
   "cell_type": "code",
   "execution_count": 40,
   "id": "ea32a748",
   "metadata": {},
   "outputs": [],
   "source": [
    "class Speaker:\n",
    "    def __init__(self,color,sound,high,low):\n",
    "        self.color = color\n",
    "        self.sound = sound\n",
    "        self.high = high\n",
    "        self.low = low\n",
    "    def show_specs(self):\n",
    "        print(\"speaker's coloe is \", self.color)show\n",
    "        print(\"speaker's sound is \", self.sound)\n",
    "        print(\"speaker's high is: \", self.high)\n",
    "        print(\"speaker's low is:\" , self.low)\n",
    "    "
   ]
  },
  {
   "cell_type": "code",
   "execution_count": 43,
   "id": "ab250567",
   "metadata": {},
   "outputs": [],
   "source": [
    "s1 = Speaker('black','good',100,20)"
   ]
  },
  {
   "cell_type": "code",
   "execution_count": 44,
   "id": "6717b662",
   "metadata": {},
   "outputs": [
    {
     "name": "stdout",
     "output_type": "stream",
     "text": [
      "speaker's coloe is  black\n",
      "speaker's sound is  good\n",
      "speaker's high is:  100\n",
      "speaker's low is: 20\n"
     ]
    }
   ],
   "source": [
    "s1.show_specs()"
   ]
  },
  {
   "cell_type": "markdown",
   "id": "f1f6a895",
   "metadata": {},
   "source": [
    "## Inheritance"
   ]
  },
  {
   "cell_type": "code",
   "execution_count": 53,
   "id": "8f8bfa77",
   "metadata": {},
   "outputs": [],
   "source": [
    "class Sound_System(Speaker):\n",
    "    def features(self):\n",
    "        print('this is a sound system')"
   ]
  },
  {
   "cell_type": "code",
   "execution_count": 55,
   "id": "64945ad9",
   "metadata": {},
   "outputs": [],
   "source": [
    "s2 = Sound_System('blue','very good', 200, 20)"
   ]
  },
  {
   "cell_type": "code",
   "execution_count": 57,
   "id": "46106f6f",
   "metadata": {},
   "outputs": [
    {
     "name": "stdout",
     "output_type": "stream",
     "text": [
      "speaker's coloe is  blue\n",
      "speaker's sound is  very good\n",
      "speaker's high is:  200\n",
      "speaker's low is: 20\n"
     ]
    }
   ],
   "source": [
    "s2.show_specs()"
   ]
  },
  {
   "cell_type": "code",
   "execution_count": 58,
   "id": "db23822d",
   "metadata": {},
   "outputs": [
    {
     "name": "stdout",
     "output_type": "stream",
     "text": [
      "this is a sound system\n"
     ]
    }
   ],
   "source": [
    "s2.features()"
   ]
  },
  {
   "cell_type": "markdown",
   "id": "56b897e9",
   "metadata": {},
   "source": [
    "### overriding __init__ "
   ]
  },
  {
   "cell_type": "code",
   "execution_count": 62,
   "id": "f30faa8e",
   "metadata": {},
   "outputs": [],
   "source": [
    "class Sound_System1(Speaker):                                   #creating a child class\n",
    "    def __init__(self,color,sound,high,low,price):               \n",
    "        super().__init__(color,sound,high,low)\n",
    "        self.price = price\n",
    "    def Spec(self):\n",
    "        print(\"speaker's coloe is \", self.color)\n",
    "        print(\"speaker's sound is \", self.sound)\n",
    "        print(\"speaker's high is: \", self.high)\n",
    "        print(\"speaker's low is:\" , self.low)\n",
    "        print(\"speaker's price is:\", self.price)\n",
    "        "
   ]
  },
  {
   "cell_type": "code",
   "execution_count": 64,
   "id": "78ab2efc",
   "metadata": {},
   "outputs": [],
   "source": [
    "s2 = Sound_System1('pink','average',80,5,1500)"
   ]
  },
  {
   "cell_type": "code",
   "execution_count": 65,
   "id": "f1ec069f",
   "metadata": {},
   "outputs": [
    {
     "name": "stdout",
     "output_type": "stream",
     "text": [
      "speaker's coloe is  pink\n",
      "speaker's sound is  average\n",
      "speaker's high is:  80\n",
      "speaker's low is: 5\n",
      "speaker's price is: 1500\n"
     ]
    }
   ],
   "source": [
    "s2.Spec()"
   ]
  },
  {
   "cell_type": "code",
   "execution_count": 66,
   "id": "faa0f320",
   "metadata": {},
   "outputs": [
    {
     "name": "stdout",
     "output_type": "stream",
     "text": [
      "speaker's coloe is  pink\n",
      "speaker's sound is  average\n",
      "speaker's high is:  80\n",
      "speaker's low is: 5\n"
     ]
    }
   ],
   "source": [
    "s2.show_specs()"
   ]
  },
  {
   "cell_type": "markdown",
   "id": "3f863743",
   "metadata": {},
   "source": [
    "## Multiple Inheritance"
   ]
  },
  {
   "cell_type": "code",
   "execution_count": 113,
   "id": "3d41cb9a",
   "metadata": {},
   "outputs": [],
   "source": [
    "class Parent1:\n",
    "    def assign_string_one(self,str1):\n",
    "        self.str1 = str1\n",
    "    \n",
    "    def show_string_one(self):\n",
    "        return self.str1"
   ]
  },
  {
   "cell_type": "code",
   "execution_count": 133,
   "id": "291a45fa",
   "metadata": {},
   "outputs": [],
   "source": [
    "class Parent2:\n",
    "    def assign_string_two(self,str2):\n",
    "        self.str2 = str2\n",
    "   \n",
    "    def show_string_two(self):\n",
    "        return self.str2"
   ]
  },
  {
   "cell_type": "code",
   "execution_count": 144,
   "id": "e567126d",
   "metadata": {},
   "outputs": [],
   "source": [
    "class Child(Parent1, Parent2):\n",
    "    def assign_string_three(self,str3):\n",
    "        self.str3 = str3\n",
    "    def show_string_three(self):\n",
    "        return self.str3"
   ]
  },
  {
   "cell_type": "code",
   "execution_count": 145,
   "id": "17e8d15a",
   "metadata": {},
   "outputs": [],
   "source": [
    "c1 = Child()"
   ]
  },
  {
   "cell_type": "code",
   "execution_count": 146,
   "id": "37648bb2",
   "metadata": {},
   "outputs": [],
   "source": [
    "c1.assign_string_one('hi')\n",
    "\n",
    "c1.assign_string_three('people')"
   ]
  },
  {
   "cell_type": "code",
   "execution_count": 147,
   "id": "b0c07342",
   "metadata": {},
   "outputs": [
    {
     "data": {
      "text/plain": [
       "'people'"
      ]
     },
     "execution_count": 147,
     "metadata": {},
     "output_type": "execute_result"
    }
   ],
   "source": [
    "c1.show_string_three()"
   ]
  },
  {
   "cell_type": "code",
   "execution_count": 149,
   "id": "b35922d7",
   "metadata": {},
   "outputs": [],
   "source": [
    "c1.assign_string_one('why')"
   ]
  },
  {
   "cell_type": "code",
   "execution_count": 150,
   "id": "c5185ee0",
   "metadata": {},
   "outputs": [
    {
     "data": {
      "text/plain": [
       "'why'"
      ]
     },
     "execution_count": 150,
     "metadata": {},
     "output_type": "execute_result"
    }
   ],
   "source": [
    "c1.show_string_one()"
   ]
  },
  {
   "cell_type": "code",
   "execution_count": 151,
   "id": "dc071a47",
   "metadata": {},
   "outputs": [],
   "source": [
    "c1.assign_string_two('qqq')"
   ]
  },
  {
   "cell_type": "code",
   "execution_count": 152,
   "id": "e58ce52d",
   "metadata": {},
   "outputs": [
    {
     "data": {
      "text/plain": [
       "'qqq'"
      ]
     },
     "execution_count": 152,
     "metadata": {},
     "output_type": "execute_result"
    }
   ],
   "source": [
    "c1.show_string_two()"
   ]
  },
  {
   "cell_type": "code",
   "execution_count": 153,
   "id": "8b27ed65",
   "metadata": {},
   "outputs": [
    {
     "data": {
      "text/plain": [
       "'people'"
      ]
     },
     "execution_count": 153,
     "metadata": {},
     "output_type": "execute_result"
    }
   ],
   "source": [
    "c1.show_string_three()"
   ]
  },
  {
   "cell_type": "markdown",
   "id": "51472dc4",
   "metadata": {},
   "source": [
    "## Multi Level Inheritance"
   ]
  },
  {
   "cell_type": "code",
   "execution_count": 156,
   "id": "6613e2be",
   "metadata": {},
   "outputs": [],
   "source": [
    "class Saif:\n",
    "    def assign_name(self,name):\n",
    "        self.name = name\n",
    "    def show_name(self):\n",
    "        return self.name\n",
    "    \n",
    "        \n",
    "    "
   ]
  },
  {
   "cell_type": "code",
   "execution_count": 157,
   "id": "9114cbcc",
   "metadata": {},
   "outputs": [],
   "source": [
    "class Karina(Saif):\n",
    "    def assign_place(self,place):\n",
    "        self.place = place\n",
    "    def show_place(self):\n",
    "        return self.place\n",
    "    "
   ]
  },
  {
   "cell_type": "code",
   "execution_count": 158,
   "id": "7920a72e",
   "metadata": {},
   "outputs": [],
   "source": [
    "class Taimur(Karina):\n",
    "    def assign_year(self,year):\n",
    "        self.year = year\n",
    "    def show_year(self):\n",
    "        return self.year"
   ]
  },
  {
   "cell_type": "code",
   "execution_count": 159,
   "id": "f4739d3e",
   "metadata": {},
   "outputs": [],
   "source": [
    "t1 = Taimur()"
   ]
  },
  {
   "cell_type": "code",
   "execution_count": 160,
   "id": "a69d5915",
   "metadata": {},
   "outputs": [],
   "source": [
    "t1.assign_place('delhi')"
   ]
  },
  {
   "cell_type": "code",
   "execution_count": 162,
   "id": "beaf2e41",
   "metadata": {},
   "outputs": [
    {
     "data": {
      "text/plain": [
       "'delhi'"
      ]
     },
     "execution_count": 162,
     "metadata": {},
     "output_type": "execute_result"
    }
   ],
   "source": [
    "t1.show_place()"
   ]
  },
  {
   "cell_type": "code",
   "execution_count": 163,
   "id": "4eec7ffb",
   "metadata": {},
   "outputs": [],
   "source": [
    "t1.assign_name('bablu')"
   ]
  },
  {
   "cell_type": "code",
   "execution_count": 164,
   "id": "f9b82138",
   "metadata": {},
   "outputs": [
    {
     "data": {
      "text/plain": [
       "'bablu'"
      ]
     },
     "execution_count": 164,
     "metadata": {},
     "output_type": "execute_result"
    }
   ],
   "source": [
    "t1.show_name()"
   ]
  },
  {
   "cell_type": "code",
   "execution_count": 165,
   "id": "b2f0c63b",
   "metadata": {},
   "outputs": [],
   "source": [
    "t1.assign_year(1990)"
   ]
  },
  {
   "cell_type": "code",
   "execution_count": 166,
   "id": "363a83fa",
   "metadata": {},
   "outputs": [
    {
     "data": {
      "text/plain": [
       "1990"
      ]
     },
     "execution_count": 166,
     "metadata": {},
     "output_type": "execute_result"
    }
   ],
   "source": [
    "t1.show_year()"
   ]
  }
 ],
 "metadata": {
  "kernelspec": {
   "display_name": "Python 3 (ipykernel)",
   "language": "python",
   "name": "python3"
  },
  "language_info": {
   "codemirror_mode": {
    "name": "ipython",
    "version": 3
   },
   "file_extension": ".py",
   "mimetype": "text/x-python",
   "name": "python",
   "nbconvert_exporter": "python",
   "pygments_lexer": "ipython3",
   "version": "3.9.7"
  }
 },
 "nbformat": 4,
 "nbformat_minor": 5
}
